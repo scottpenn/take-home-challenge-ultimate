{
 "cells": [
  {
   "cell_type": "markdown",
   "metadata": {},
   "source": [
    "The neighboring cities of Gotham and Metropolis have complementary circadian rhythms: on weekdays, Ultimate Gotham is most active at night, and Ultimate Metropolis is most active during the day. On weekends, there is reasonable activity in both cities.\n",
    "\n",
    "However, a toll bridge, with a two way toll, between the two cities causes driver partners to tend to be exclusive to each city. The Ultimate managers of city operations for the two cities have proposed an experiment to encourage driver partners to be available in both cities, by reimbursing all toll costs."
   ]
  },
  {
   "cell_type": "markdown",
   "metadata": {},
   "source": [
    "1. What would you choose as the key measure of success of this experiment in encouraging driver partners to serve both cities, and why would you choose this metric?"
   ]
  },
  {
   "cell_type": "markdown",
   "metadata": {},
   "source": [
    "I would look at two metrics for determining the success of the experiment. First, I would look at the number of drivers that made a trip in a day. If the number of drivers available has increased, then one reason for the increase could be drivers from another city crossing the bridge. However, it could also just be a general increase due to a higher interest in the job.\n",
    "\n",
    "If possible, I would tag drivers with their city of choice. If a driver primarily takes rides in Gotham, then they would be labelled as a Gotham driver. Then, the metric of success would be the rate of rides taken outside of a drivers primary city. This would require data that may not be available, but it would give a better estimation of the experiments success wihtout having to account for external factors"
   ]
  },
  {
   "cell_type": "markdown",
   "metadata": {},
   "source": [
    "2. Describe a practical experiment you would design to compare the effectiveness of the proposed change in relation to the key measure of success. Please provide details on:\n",
    "\n",
    "a. how you will implement the experiment\n",
    "\n",
    "b. what statistical test(s) you will conduct to verify the significance of the\n",
    "observation\n",
    "\n",
    "c. how you would interpret the results and provide recommendations to the city\n",
    "operations team along with any caveats."
   ]
  },
  {
   "cell_type": "markdown",
   "metadata": {},
   "source": [
    "a. I would implement an A/B test that splits the drivers into a promotion set and a without promotion set. It's important to divide the drivers along the right feature. If you divide the riders by city, you might not understand how the different cities impact the experiment. If you divide by day of the week, you might miss factors relationg to activity on the weekends. Instead, I would split the drivers evenly by city and days of availability.\n",
    "\n",
    "Drivers with the promotion would be notified that their toll bridge costs would be reimbursed, and drivers without the promotion would not be notified. After some amount of days, depending on the amount of data able to be collected, an analysis would be run on the two sets."
   ]
  },
  {
   "cell_type": "markdown",
   "metadata": {},
   "source": [
    "b. A statistical t-test would be run on the means of the data to determine if the experiment had a significant impact on driver availability. The null hypothesis would be that the experiment had no effect, and the alternative hypothesis would be that the experiment showed an improvement in driver availability."
   ]
  },
  {
   "cell_type": "markdown",
   "metadata": {},
   "source": [
    "c. If the results showed a statistically significant improvement in driver availibility, I would look into the cost analysis of such a change. The number of ride reimbursements might have an impact on operations. It would also be important to look at the data for individual days. If driver availibility only improved on the weekend when both sities are active, then more incentives would be needed depending on demand. Further A/B testing may be required to see if the promotion effect could be improved in any way."
   ]
  }
 ],
 "metadata": {
  "kernelspec": {
   "display_name": "Python 3",
   "language": "python",
   "name": "python3"
  },
  "language_info": {
   "codemirror_mode": {
    "name": "ipython",
    "version": 3
   },
   "file_extension": ".py",
   "mimetype": "text/x-python",
   "name": "python",
   "nbconvert_exporter": "python",
   "pygments_lexer": "ipython3",
   "version": "3.7.6"
  }
 },
 "nbformat": 4,
 "nbformat_minor": 4
}
