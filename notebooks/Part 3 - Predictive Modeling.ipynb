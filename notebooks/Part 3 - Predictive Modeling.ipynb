{
 "cells": [
  {
   "cell_type": "code",
   "execution_count": 1,
   "metadata": {},
   "outputs": [],
   "source": [
    "# Basic imports\n",
    "\n",
    "import pandas as pd\n",
    "import numpy as np\n",
    "import matplotlib.pyplot as plt\n",
    "import json\n",
    "import seaborn as sns"
   ]
  },
  {
   "cell_type": "code",
   "execution_count": 2,
   "metadata": {},
   "outputs": [],
   "source": [
    "# Scikit Learn imports and XGBoost\n",
    "\n",
    "from sklearn.model_selection import train_test_split\n",
    "from sklearn.preprocessing import MinMaxScaler, QuantileTransformer\n",
    "from sklearn.metrics import roc_curve, roc_auc_score\n",
    "from sklearn.metrics import f1_score, accuracy_score\n",
    "\n",
    "from xgboost import XGBClassifier"
   ]
  },
  {
   "cell_type": "code",
   "execution_count": 3,
   "metadata": {},
   "outputs": [],
   "source": [
    "# Keras imports\n",
    "\n",
    "from keras.utils import to_categorical\n",
    "from keras.models import Sequential\n",
    "from keras.layers import Dense, Activation, Dropout\n",
    "from keras.metrics import Accuracy\n",
    "from keras.callbacks import EarlyStopping\n",
    "from keras.callbacks import ModelCheckpoint\n",
    "from keras.models import load_model"
   ]
  },
  {
   "cell_type": "code",
   "execution_count": 4,
   "metadata": {},
   "outputs": [],
   "source": [
    "data = []\n",
    "with open('../data/raw/ultimate_data_challenge.json') as top_symbols:\n",
    "    data = json.load(top_symbols)"
   ]
  },
  {
   "cell_type": "code",
   "execution_count": 5,
   "metadata": {
    "scrolled": true
   },
   "outputs": [],
   "source": [
    "users = pd.DataFrame(data)"
   ]
  },
  {
   "cell_type": "code",
   "execution_count": 6,
   "metadata": {},
   "outputs": [
    {
     "data": {
      "text/html": [
       "<div>\n",
       "<style scoped>\n",
       "    .dataframe tbody tr th:only-of-type {\n",
       "        vertical-align: middle;\n",
       "    }\n",
       "\n",
       "    .dataframe tbody tr th {\n",
       "        vertical-align: top;\n",
       "    }\n",
       "\n",
       "    .dataframe thead th {\n",
       "        text-align: right;\n",
       "    }\n",
       "</style>\n",
       "<table border=\"1\" class=\"dataframe\">\n",
       "  <thead>\n",
       "    <tr style=\"text-align: right;\">\n",
       "      <th></th>\n",
       "      <th>city</th>\n",
       "      <th>trips_in_first_30_days</th>\n",
       "      <th>signup_date</th>\n",
       "      <th>avg_rating_of_driver</th>\n",
       "      <th>avg_surge</th>\n",
       "      <th>last_trip_date</th>\n",
       "      <th>phone</th>\n",
       "      <th>surge_pct</th>\n",
       "      <th>ultimate_black_user</th>\n",
       "      <th>weekday_pct</th>\n",
       "      <th>avg_dist</th>\n",
       "      <th>avg_rating_by_driver</th>\n",
       "    </tr>\n",
       "  </thead>\n",
       "  <tbody>\n",
       "    <tr>\n",
       "      <th>0</th>\n",
       "      <td>King's Landing</td>\n",
       "      <td>4</td>\n",
       "      <td>2014-01-25</td>\n",
       "      <td>4.7</td>\n",
       "      <td>1.10</td>\n",
       "      <td>2014-06-17</td>\n",
       "      <td>iPhone</td>\n",
       "      <td>15.4</td>\n",
       "      <td>True</td>\n",
       "      <td>46.2</td>\n",
       "      <td>3.67</td>\n",
       "      <td>5.0</td>\n",
       "    </tr>\n",
       "    <tr>\n",
       "      <th>1</th>\n",
       "      <td>Astapor</td>\n",
       "      <td>0</td>\n",
       "      <td>2014-01-29</td>\n",
       "      <td>5.0</td>\n",
       "      <td>1.00</td>\n",
       "      <td>2014-05-05</td>\n",
       "      <td>Android</td>\n",
       "      <td>0.0</td>\n",
       "      <td>False</td>\n",
       "      <td>50.0</td>\n",
       "      <td>8.26</td>\n",
       "      <td>5.0</td>\n",
       "    </tr>\n",
       "    <tr>\n",
       "      <th>2</th>\n",
       "      <td>Astapor</td>\n",
       "      <td>3</td>\n",
       "      <td>2014-01-06</td>\n",
       "      <td>4.3</td>\n",
       "      <td>1.00</td>\n",
       "      <td>2014-01-07</td>\n",
       "      <td>iPhone</td>\n",
       "      <td>0.0</td>\n",
       "      <td>False</td>\n",
       "      <td>100.0</td>\n",
       "      <td>0.77</td>\n",
       "      <td>5.0</td>\n",
       "    </tr>\n",
       "    <tr>\n",
       "      <th>3</th>\n",
       "      <td>King's Landing</td>\n",
       "      <td>9</td>\n",
       "      <td>2014-01-10</td>\n",
       "      <td>4.6</td>\n",
       "      <td>1.14</td>\n",
       "      <td>2014-06-29</td>\n",
       "      <td>iPhone</td>\n",
       "      <td>20.0</td>\n",
       "      <td>True</td>\n",
       "      <td>80.0</td>\n",
       "      <td>2.36</td>\n",
       "      <td>4.9</td>\n",
       "    </tr>\n",
       "    <tr>\n",
       "      <th>4</th>\n",
       "      <td>Winterfell</td>\n",
       "      <td>14</td>\n",
       "      <td>2014-01-27</td>\n",
       "      <td>4.4</td>\n",
       "      <td>1.19</td>\n",
       "      <td>2014-03-15</td>\n",
       "      <td>Android</td>\n",
       "      <td>11.8</td>\n",
       "      <td>False</td>\n",
       "      <td>82.4</td>\n",
       "      <td>3.13</td>\n",
       "      <td>4.9</td>\n",
       "    </tr>\n",
       "  </tbody>\n",
       "</table>\n",
       "</div>"
      ],
      "text/plain": [
       "             city  trips_in_first_30_days signup_date  avg_rating_of_driver  \\\n",
       "0  King's Landing                       4  2014-01-25                   4.7   \n",
       "1         Astapor                       0  2014-01-29                   5.0   \n",
       "2         Astapor                       3  2014-01-06                   4.3   \n",
       "3  King's Landing                       9  2014-01-10                   4.6   \n",
       "4      Winterfell                      14  2014-01-27                   4.4   \n",
       "\n",
       "   avg_surge last_trip_date    phone  surge_pct  ultimate_black_user  \\\n",
       "0       1.10     2014-06-17   iPhone       15.4                 True   \n",
       "1       1.00     2014-05-05  Android        0.0                False   \n",
       "2       1.00     2014-01-07   iPhone        0.0                False   \n",
       "3       1.14     2014-06-29   iPhone       20.0                 True   \n",
       "4       1.19     2014-03-15  Android       11.8                False   \n",
       "\n",
       "   weekday_pct  avg_dist  avg_rating_by_driver  \n",
       "0         46.2      3.67                   5.0  \n",
       "1         50.0      8.26                   5.0  \n",
       "2        100.0      0.77                   5.0  \n",
       "3         80.0      2.36                   4.9  \n",
       "4         82.4      3.13                   4.9  "
      ]
     },
     "execution_count": 6,
     "metadata": {},
     "output_type": "execute_result"
    }
   ],
   "source": [
    "users.head()"
   ]
  },
  {
   "cell_type": "code",
   "execution_count": 7,
   "metadata": {},
   "outputs": [
    {
     "name": "stdout",
     "output_type": "stream",
     "text": [
      "<class 'pandas.core.frame.DataFrame'>\n",
      "RangeIndex: 50000 entries, 0 to 49999\n",
      "Data columns (total 12 columns):\n",
      " #   Column                  Non-Null Count  Dtype  \n",
      "---  ------                  --------------  -----  \n",
      " 0   city                    50000 non-null  object \n",
      " 1   trips_in_first_30_days  50000 non-null  int64  \n",
      " 2   signup_date             50000 non-null  object \n",
      " 3   avg_rating_of_driver    41878 non-null  float64\n",
      " 4   avg_surge               50000 non-null  float64\n",
      " 5   last_trip_date          50000 non-null  object \n",
      " 6   phone                   49604 non-null  object \n",
      " 7   surge_pct               50000 non-null  float64\n",
      " 8   ultimate_black_user     50000 non-null  bool   \n",
      " 9   weekday_pct             50000 non-null  float64\n",
      " 10  avg_dist                50000 non-null  float64\n",
      " 11  avg_rating_by_driver    49799 non-null  float64\n",
      "dtypes: bool(1), float64(6), int64(1), object(4)\n",
      "memory usage: 4.2+ MB\n"
     ]
    }
   ],
   "source": [
    "users.info()"
   ]
  },
  {
   "cell_type": "code",
   "execution_count": 8,
   "metadata": {},
   "outputs": [],
   "source": [
    "# Assuming no duplicates\n",
    "\n",
    "num_users = users.shape[0]"
   ]
  },
  {
   "cell_type": "code",
   "execution_count": 9,
   "metadata": {},
   "outputs": [],
   "source": [
    "# Adjusting the type of certain columns\n",
    "\n",
    "users.signup_date = pd.to_datetime(users.signup_date)\n",
    "users.last_trip_date = pd.to_datetime(users.last_trip_date)\n",
    "users.city = users.city.astype('category')\n",
    "users.phone = users.phone.astype('category')"
   ]
  },
  {
   "cell_type": "code",
   "execution_count": 10,
   "metadata": {},
   "outputs": [
    {
     "data": {
      "text/plain": [
       "Timestamp('2014-07-01 00:00:00')"
      ]
     },
     "execution_count": 10,
     "metadata": {},
     "output_type": "execute_result"
    }
   ],
   "source": [
    "# The latest date occuring in the database is July 2014\n",
    "\n",
    "users.last_trip_date.max()"
   ]
  },
  {
   "cell_type": "code",
   "execution_count": 11,
   "metadata": {},
   "outputs": [],
   "source": [
    "# A user is considered active if they have taken a trip in the last 30 days.\n",
    "# Since no end date was given, I will accept any trip in the month of June 2014\n",
    "\n",
    "users['active'] = users.last_trip_date >= '2014-06-01 00:00:00'"
   ]
  },
  {
   "cell_type": "code",
   "execution_count": 12,
   "metadata": {},
   "outputs": [
    {
     "data": {
      "text/plain": [
       "0.37608"
      ]
     },
     "execution_count": 12,
     "metadata": {},
     "output_type": "execute_result"
    }
   ],
   "source": [
    "# We can figure out the percentage of active users in the dataset\n",
    "\n",
    "active_rate = users.active.sum() / num_users\n",
    "active_rate"
   ]
  },
  {
   "cell_type": "code",
   "execution_count": 13,
   "metadata": {
    "scrolled": false
   },
   "outputs": [
    {
     "data": {
      "image/png": "[encoded data removed]",
      "text/plain": [
       "<Figure size 432x288 with 1 Axes>"
      ]
     },
     "metadata": {
      "needs_background": "light"
     },
     "output_type": "display_data"
    }
   ],
   "source": [
    "# King's Landing appears to have the highest rate of active users\n",
    "\n",
    "city_active = users.groupby('city').active.sum() / users.groupby('city').active.count()\n",
    "city_active.nsmallest().plot(kind='bar')\n",
    "plt.axhline(active_rate, c='r')\n",
    "_ = plt.xticks(rotation=0)"
   ]
  },
  {
   "cell_type": "code",
   "execution_count": 14,
   "metadata": {
    "scrolled": true
   },
   "outputs": [
    {
     "data": {
      "image/png": "[encoded data removed]",
      "text/plain": [
       "<Figure size 432x288 with 1 Axes>"
      ]
     },
     "metadata": {
      "needs_background": "light"
     },
     "output_type": "display_data"
    }
   ],
   "source": [
    "# iPhone Users also appear to have a higher active rate at first glance.\n",
    "\n",
    "phone_active = users.groupby('phone').active.sum() / users.groupby('phone').active.count()\n",
    "phone_active.nsmallest().plot(kind='bar')\n",
    "plt.axhline(active_rate, c='r')\n",
    "_ = plt.xticks(rotation=0)"
   ]
  },
  {
   "cell_type": "code",
   "execution_count": 15,
   "metadata": {
    "scrolled": true
   },
   "outputs": [
    {
     "data": {
      "image/png": "[encoded data removed]",
      "text/plain": [
       "<Figure size 432x288 with 1 Axes>"
      ]
     },
     "metadata": {
      "needs_background": "light"
     },
     "output_type": "display_data"
    }
   ],
   "source": [
    "# Ultimate users are more likely to remain active.\n",
    "\n",
    "ultimate_black_active = users.groupby('ultimate_black_user').active.sum() / users.groupby('ultimate_black_user').active.count()\n",
    "ultimate_black_active.nsmallest().plot(kind='bar')\n",
    "plt.axhline(active_rate, c='r')\n",
    "_ = plt.xticks(rotation=0)"
   ]
  },
  {
   "cell_type": "code",
   "execution_count": 16,
   "metadata": {},
   "outputs": [
    {
     "data": {
      "image/png": "[encoded data removed]",
      "text/plain": [
       "<Figure size 432x288 with 1 Axes>"
      ]
     },
     "metadata": {
      "needs_background": "light"
     },
     "output_type": "display_data"
    }
   ],
   "source": [
    "# Going by the number of trips after registration, the more trips a user take, the more likely they will be active. \n",
    "\n",
    "bins = pd.IntervalIndex.from_tuples([(-1, 0), (0, 3), (3, 10), (10, 30), (30, 100), (100, 200)])\n",
    "trips = users.groupby(pd.cut(users.trips_in_first_30_days, bins=bins))\n",
    "\n",
    "trips_active = trips.active.sum() / trips.active.count()\n",
    "trips_active.plot(kind='bar')\n",
    "plt.axhline(active_rate, c='r')\n",
    "_ = plt.xticks(np.arange(6), ['0', '1-3', '4-10', '11-30', '31-100', '100+'], rotation=0)"
   ]
  },
  {
   "cell_type": "code",
   "execution_count": 17,
   "metadata": {
    "scrolled": true
   },
   "outputs": [
    {
     "data": {
      "image/png": "[encoded data removed]",
      "text/plain": [
       "<Figure size 432x288 with 1 Axes>"
      ]
     },
     "metadata": {
      "needs_background": "light"
     },
     "output_type": "display_data"
    }
   ],
   "source": [
    "# However, active users are less likely to average long distance.\n",
    "\n",
    "bins = pd.IntervalIndex.from_tuples([(-1, 3), (3, 10), (10, 30), (30, 200)])\n",
    "distance = users.groupby(pd.cut(users.avg_dist, bins=bins))\n",
    "\n",
    "distance_active = distance.active.sum() / distance.active.count()\n",
    "distance_active.plot(kind='bar')\n",
    "plt.axhline(active_rate, c='r')\n",
    "_ = plt.xticks(np.arange(4), ['0-3', '4-10', '11-30', '31+'], rotation=0)"
   ]
  },
  {
   "cell_type": "code",
   "execution_count": 18,
   "metadata": {},
   "outputs": [],
   "source": [
    "users.dropna(inplace=True)"
   ]
  },
  {
   "cell_type": "code",
   "execution_count": 19,
   "metadata": {},
   "outputs": [],
   "source": [
    "users = pd.get_dummies(users)"
   ]
  },
  {
   "cell_type": "code",
   "execution_count": 20,
   "metadata": {},
   "outputs": [],
   "source": [
    "# To train the model, I will use all features that are not datetimes.\n",
    "\n",
    "COLUMNS = list(set(users.columns) - {'signup_date', 'last_trip_date', 'active'})"
   ]
  },
  {
   "cell_type": "code",
   "execution_count": 21,
   "metadata": {},
   "outputs": [],
   "source": [
    "# The target variable will be the \"active\" column, which is either a 0 or a 1.\n",
    "\n",
    "X = users[COLUMNS]\n",
    "y = users['active']\n",
    "\n",
    "X_train, X_test, y_train, y_test = train_test_split(X, y, test_size=0.2)"
   ]
  },
  {
   "cell_type": "code",
   "execution_count": 22,
   "metadata": {},
   "outputs": [],
   "source": [
    "# I have found that the QuantileTransformer is robust in the presence of outliers.\n",
    "# However, it can take longer to scale\n",
    "\n",
    "scaler = QuantileTransformer(output_distribution='normal')\n",
    "X_train_scaled = scaler.fit_transform(X_train)\n",
    "X_test_scaled = scaler.transform(X_test)"
   ]
  },
  {
   "cell_type": "code",
   "execution_count": 23,
   "metadata": {
    "scrolled": true
   },
   "outputs": [
    {
     "data": {
      "text/plain": [
       "XGBClassifier(base_score=0.5, booster='gbtree', colsample_bylevel=1,\n",
       "              colsample_bynode=1, colsample_bytree=1, gamma=0, gpu_id=-1,\n",
       "              importance_type='gain', interaction_constraints='',\n",
       "              learning_rate=0.300000012, max_delta_step=0, max_depth=6,\n",
       "              min_child_weight=1, missing=nan, monotone_constraints='()',\n",
       "              n_estimators=100, n_jobs=-1, num_parallel_tree=1, random_state=0,\n",
       "              reg_alpha=0, reg_lambda=1, scale_pos_weight=1, subsample=1,\n",
       "              tree_method='exact', validate_parameters=1, verbosity=1)"
      ]
     },
     "execution_count": 23,
     "metadata": {},
     "output_type": "execute_result"
    }
   ],
   "source": [
    "# I chose the XGBoost classifier because it gives interpretable results \n",
    "# and generally performs well with little tuning.\n",
    "\n",
    "clf = XGBClassifier(n_jobs=-1, verbosity=1)\n",
    "\n",
    "clf.fit(X_train_scaled, y_train)"
   ]
  },
  {
   "cell_type": "code",
   "execution_count": 24,
   "metadata": {},
   "outputs": [],
   "source": [
    "# This function plots the ROC Curve and prints out the F1 score, two metrics useful for determining a model's success.\n",
    "\n",
    "def plot_classifier(clf, X_train, y_train, X_test, y_test, metric):    \n",
    "    \n",
    "    y_pred_train = clf.predict_proba(X_train)[:, 1]\n",
    "    fpr_train, tpr_train, _ = roc_curve(y_train, y_pred_train)\n",
    "    \n",
    "    y_pred_test = clf.predict_proba(X_test)[:, 1]\n",
    "    fpr, tpr, _ = roc_curve(y_test, y_pred_test)\n",
    "    \n",
    "    plt.plot([0, 1], [0, 1], 'k--', label='Coin Flip')\n",
    "    plt.plot(fpr_train, tpr_train, label='Training Data')\n",
    "    plt.plot(fpr, tpr, label='Testing Data')\n",
    "    plt.xlabel('False positive rate')\n",
    "    plt.ylabel('True positive rate')\n",
    "    plt.title('ROC curve')\n",
    "    \n",
    "    \n",
    "     \n",
    "    print(f'Train AUC: {roc_auc_score(y_train, y_pred_train)}, Train F1 Score: {f1_score(y_train, y_pred_train.round())}')\n",
    "    print(f'Test AUC: {roc_auc_score(y_test, y_pred_test)}, Test F1 Score: {f1_score(y_test, y_pred_test.round())}')\n",
    "    print(f'Test Accuracy: {accuracy_score(y_test, metric(X_test))}')"
   ]
  },
  {
   "cell_type": "code",
   "execution_count": 25,
   "metadata": {
    "scrolled": true
   },
   "outputs": [
    {
     "name": "stdout",
     "output_type": "stream",
     "text": [
      "Train AUC: 0.9147809077648028, Train F1 Score: 0.7983050206197269\n",
      "Test AUC: 0.8597178540059918, Test F1 Score: 0.733313014324901\n",
      "Test Accuracy: 0.7888768247074436\n"
     ]
    },
    {
     "data": {
      "image/png": "[encoded data removed]",
      "text/plain": [
       "<Figure size 432x288 with 1 Axes>"
      ]
     },
     "metadata": {
      "needs_background": "light"
     },
     "output_type": "display_data"
    }
   ],
   "source": [
    "# Out of the box, the XGBoost classifier model has a 78% accuracy on the test set.\n",
    "\n",
    "plot_classifier(clf, X_train_scaled, y_train, X_test_scaled, y_test, clf.predict)"
   ]
  },
  {
   "cell_type": "code",
   "execution_count": 26,
   "metadata": {
    "scrolled": true
   },
   "outputs": [
    {
     "data": {
      "text/plain": [
       "[(\"city_King's Landing\", 0.29441726),\n",
       " ('phone_iPhone', 0.15399596),\n",
       " ('avg_rating_by_driver', 0.14950809),\n",
       " ('ultimate_black_user', 0.092486985),\n",
       " ('surge_pct', 0.083812796),\n",
       " ('city_Astapor', 0.067135714),\n",
       " ('weekday_pct', 0.047789823),\n",
       " ('trips_in_first_30_days', 0.031556558),\n",
       " ('avg_surge', 0.02458963),\n",
       " ('avg_rating_of_driver', 0.02387296),\n",
       " ('avg_dist', 0.018305095),\n",
       " ('city_Winterfell', 0.012529075),\n",
       " ('phone_Android', 0.0)]"
      ]
     },
     "execution_count": 26,
     "metadata": {},
     "output_type": "execute_result"
    }
   ],
   "source": [
    "# The city ended up being the most important feature used by the model.\n",
    "\n",
    "importances = clf.feature_importances_\n",
    "indices = np.argsort(importances)[::-1]\n",
    "[(COLUMNS[i], importances[i]) for i in indices]"
   ]
  },
  {
   "cell_type": "code",
   "execution_count": 27,
   "metadata": {},
   "outputs": [],
   "source": [
    "# As a comparison, I'll train a simple neural network to see if it can do any better."
   ]
  },
  {
   "cell_type": "code",
   "execution_count": 28,
   "metadata": {},
   "outputs": [],
   "source": [
    "y_train_cat = to_categorical(y_train) \n",
    "y_test_cat = to_categorical(y_test)"
   ]
  },
  {
   "cell_type": "code",
   "execution_count": 29,
   "metadata": {},
   "outputs": [],
   "source": [
    "# Two hidden layers with 50 nodes each.\n",
    "\n",
    "model = Sequential()\n",
    "\n",
    "model.add(Dense(50, activation='relu', input_dim=X_train_scaled.shape[1]))\n",
    "model.add(Dense(50, activation='relu'))\n",
    "model.add(Dense(2, activation='softmax'))"
   ]
  },
  {
   "cell_type": "code",
   "execution_count": 30,
   "metadata": {},
   "outputs": [],
   "source": [
    "# categorical_crossentropy works best as a loss function for classification\n",
    "\n",
    "model.compile(optimizer='adam', loss='categorical_crossentropy', metrics=['accuracy'])"
   ]
  },
  {
   "cell_type": "code",
   "execution_count": 31,
   "metadata": {},
   "outputs": [
    {
     "name": "stdout",
     "output_type": "stream",
     "text": [
      "Epoch 1/10\n",
      "1037/1037 [==============================] - 1s 1ms/step - loss: 0.5223 - accuracy: 0.7464 - val_loss: 0.4867 - val_accuracy: 0.7651\n",
      "Epoch 2/10\n",
      "1037/1037 [==============================] - 1s 782us/step - loss: 0.4956 - accuracy: 0.7629 - val_loss: 0.4921 - val_accuracy: 0.7670\n",
      "Epoch 3/10\n",
      "1037/1037 [==============================] - 1s 827us/step - loss: 0.4905 - accuracy: 0.7669 - val_loss: 0.4837 - val_accuracy: 0.7702\n",
      "Epoch 4/10\n",
      "1037/1037 [==============================] - 1s 911us/step - loss: 0.4879 - accuracy: 0.7672 - val_loss: 0.4829 - val_accuracy: 0.7680\n",
      "Epoch 5/10\n",
      "1037/1037 [==============================] - 1s 810us/step - loss: 0.4845 - accuracy: 0.7691 - val_loss: 0.4776 - val_accuracy: 0.7717\n",
      "Epoch 6/10\n",
      "1037/1037 [==============================] - 1s 796us/step - loss: 0.4820 - accuracy: 0.7695 - val_loss: 0.4781 - val_accuracy: 0.7711\n",
      "Epoch 7/10\n",
      "1037/1037 [==============================] - 1s 823us/step - loss: 0.4807 - accuracy: 0.7707 - val_loss: 0.4732 - val_accuracy: 0.7744\n",
      "Epoch 8/10\n",
      "1037/1037 [==============================] - 1s 797us/step - loss: 0.4787 - accuracy: 0.7736 - val_loss: 0.4753 - val_accuracy: 0.7740\n",
      "Epoch 9/10\n",
      "1037/1037 [==============================] - 1s 807us/step - loss: 0.4778 - accuracy: 0.7711 - val_loss: 0.4713 - val_accuracy: 0.7777\n",
      "Epoch 10/10\n",
      "1037/1037 [==============================] - 1s 796us/step - loss: 0.4765 - accuracy: 0.7742 - val_loss: 0.4743 - val_accuracy: 0.7737\n"
     ]
    }
   ],
   "source": [
    "es = EarlyStopping(monitor='val_loss', patience=3)\n",
    "mc = ModelCheckpoint('../active.h5', monitor='val_loss', save_best_only=True)\n",
    "\n",
    "history = model.fit(X_train_scaled, y_train_cat, \n",
    "          epochs=10, \n",
    "          callbacks= [es, mc], \n",
    "          batch_size=32,\n",
    "          validation_data=(X_test_scaled, y_test_cat), \n",
    "          shuffle=True)"
   ]
  },
  {
   "cell_type": "code",
   "execution_count": 32,
   "metadata": {},
   "outputs": [],
   "source": [
    "best_model = load_model('../active.h5')"
   ]
  },
  {
   "cell_type": "code",
   "execution_count": 36,
   "metadata": {
    "scrolled": true
   },
   "outputs": [
    {
     "name": "stdout",
     "output_type": "stream",
     "text": [
      "Train AUC: 0.8487307276225633, Train F1 Score: 0.7193589647129637\n",
      "Test AUC: 0.8493810835849986, Test F1 Score: 0.7211378423362083\n",
      "Test Accuracy: 0.7776571359633249\n"
     ]
    },
    {
     "data": {
      "image/png": "[encoded data removed]",
      "text/plain": [
       "<Figure size 432x288 with 1 Axes>"
      ]
     },
     "metadata": {
      "needs_background": "light"
     },
     "output_type": "display_data"
    }
   ],
   "source": [
    "# The XGBoost model performs slightly better than the Neural Net. \n",
    "\n",
    "plot_classifier(best_model, X_train_scaled, y_train, X_test_scaled, y_test, best_model.predict_classes)"
   ]
  },
  {
   "cell_type": "markdown",
   "metadata": {},
   "source": [
    "Both of the models I created were able to predict whether a user would remain active with over a 75% accuracy. Two the most important features used in the XGBoost model were the user's city, and the user's phone model. It would be worthwhile for Ultimate to look into why King's Landing users are more likely to stay active. As for the phone, it seems Android users are far less likely to remain active. I would look into the differences between the Android app and the iPhone app to see if there needs to be any changes to usability."
   ]
  }
 ],
 "metadata": {
  "kernelspec": {
   "display_name": "Python 3",
   "language": "python",
   "name": "python3"
  },
  "language_info": {
   "codemirror_mode": {
    "name": "ipython",
    "version": 3
   },
   "file_extension": ".py",
   "mimetype": "text/x-python",
   "name": "python",
   "nbconvert_exporter": "python",
   "pygments_lexer": "ipython3",
   "version": "3.7.6"
  }
 },
 "nbformat": 4,
 "nbformat_minor": 2
}
